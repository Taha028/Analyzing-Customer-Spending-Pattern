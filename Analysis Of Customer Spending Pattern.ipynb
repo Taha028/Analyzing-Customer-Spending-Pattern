{
 "cells": [
  {
   "cell_type": "code",
   "execution_count": 289,
   "metadata": {},
   "outputs": [],
   "source": [
    "import pandas as pd\n",
    "import numpy as np\n",
    "import seaborn as sns\n",
    "import matplotlib.pyplot as plt\n",
    "import re"
   ]
  },
  {
   "cell_type": "code",
   "execution_count": 15,
   "metadata": {},
   "outputs": [],
   "source": [
    "# !pip install faker"
   ]
  },
  {
   "cell_type": "markdown",
   "metadata": {},
   "source": [
    "A project that involves analyzing data on consumer spending can help distinguish between real variablity in spending pattern and random Variability.This Can Inform Target marketing strategies."
   ]
  },
  {
   "cell_type": "code",
   "execution_count": 16,
   "metadata": {},
   "outputs": [
    {
     "data": {
      "text/html": [
       "<div>\n",
       "<style scoped>\n",
       "    .dataframe tbody tr th:only-of-type {\n",
       "        vertical-align: middle;\n",
       "    }\n",
       "\n",
       "    .dataframe tbody tr th {\n",
       "        vertical-align: top;\n",
       "    }\n",
       "\n",
       "    .dataframe thead th {\n",
       "        text-align: right;\n",
       "    }\n",
       "</style>\n",
       "<table border=\"1\" class=\"dataframe\">\n",
       "  <thead>\n",
       "    <tr style=\"text-align: right;\">\n",
       "      <th></th>\n",
       "      <th>index</th>\n",
       "      <th>Date</th>\n",
       "      <th>Year</th>\n",
       "      <th>Month</th>\n",
       "      <th>Customer Age</th>\n",
       "      <th>Customer Gender</th>\n",
       "      <th>Country</th>\n",
       "      <th>State</th>\n",
       "      <th>Product Category</th>\n",
       "      <th>Sub Category</th>\n",
       "      <th>Quantity</th>\n",
       "      <th>Unit Cost</th>\n",
       "      <th>Unit Price</th>\n",
       "      <th>Cost</th>\n",
       "      <th>Revenue</th>\n",
       "      <th>Column1</th>\n",
       "    </tr>\n",
       "  </thead>\n",
       "  <tbody>\n",
       "    <tr>\n",
       "      <th>0</th>\n",
       "      <td>0</td>\n",
       "      <td>02/19/16</td>\n",
       "      <td>2016.0</td>\n",
       "      <td>February</td>\n",
       "      <td>29.0</td>\n",
       "      <td>F</td>\n",
       "      <td>United States</td>\n",
       "      <td>Washington</td>\n",
       "      <td>Accessories</td>\n",
       "      <td>Tires and Tubes</td>\n",
       "      <td>1.0</td>\n",
       "      <td>80.00</td>\n",
       "      <td>109.000000</td>\n",
       "      <td>80.0</td>\n",
       "      <td>109.000000</td>\n",
       "      <td>NaN</td>\n",
       "    </tr>\n",
       "    <tr>\n",
       "      <th>1</th>\n",
       "      <td>1</td>\n",
       "      <td>02/20/16</td>\n",
       "      <td>2016.0</td>\n",
       "      <td>February</td>\n",
       "      <td>29.0</td>\n",
       "      <td>F</td>\n",
       "      <td>United States</td>\n",
       "      <td>Washington</td>\n",
       "      <td>Clothing</td>\n",
       "      <td>Gloves</td>\n",
       "      <td>2.0</td>\n",
       "      <td>24.50</td>\n",
       "      <td>28.500000</td>\n",
       "      <td>49.0</td>\n",
       "      <td>57.000000</td>\n",
       "      <td>NaN</td>\n",
       "    </tr>\n",
       "    <tr>\n",
       "      <th>2</th>\n",
       "      <td>2</td>\n",
       "      <td>02/27/16</td>\n",
       "      <td>2016.0</td>\n",
       "      <td>February</td>\n",
       "      <td>29.0</td>\n",
       "      <td>F</td>\n",
       "      <td>United States</td>\n",
       "      <td>Washington</td>\n",
       "      <td>Accessories</td>\n",
       "      <td>Tires and Tubes</td>\n",
       "      <td>3.0</td>\n",
       "      <td>3.67</td>\n",
       "      <td>5.000000</td>\n",
       "      <td>11.0</td>\n",
       "      <td>15.000000</td>\n",
       "      <td>NaN</td>\n",
       "    </tr>\n",
       "    <tr>\n",
       "      <th>3</th>\n",
       "      <td>3</td>\n",
       "      <td>03/12/16</td>\n",
       "      <td>2016.0</td>\n",
       "      <td>March</td>\n",
       "      <td>29.0</td>\n",
       "      <td>F</td>\n",
       "      <td>United States</td>\n",
       "      <td>Washington</td>\n",
       "      <td>Accessories</td>\n",
       "      <td>Tires and Tubes</td>\n",
       "      <td>2.0</td>\n",
       "      <td>87.50</td>\n",
       "      <td>116.500000</td>\n",
       "      <td>175.0</td>\n",
       "      <td>233.000000</td>\n",
       "      <td>NaN</td>\n",
       "    </tr>\n",
       "    <tr>\n",
       "      <th>4</th>\n",
       "      <td>4</td>\n",
       "      <td>03/12/16</td>\n",
       "      <td>2016.0</td>\n",
       "      <td>March</td>\n",
       "      <td>29.0</td>\n",
       "      <td>F</td>\n",
       "      <td>United States</td>\n",
       "      <td>Washington</td>\n",
       "      <td>Accessories</td>\n",
       "      <td>Tires and Tubes</td>\n",
       "      <td>3.0</td>\n",
       "      <td>35.00</td>\n",
       "      <td>41.666667</td>\n",
       "      <td>105.0</td>\n",
       "      <td>125.000000</td>\n",
       "      <td>NaN</td>\n",
       "    </tr>\n",
       "    <tr>\n",
       "      <th>...</th>\n",
       "      <td>...</td>\n",
       "      <td>...</td>\n",
       "      <td>...</td>\n",
       "      <td>...</td>\n",
       "      <td>...</td>\n",
       "      <td>...</td>\n",
       "      <td>...</td>\n",
       "      <td>...</td>\n",
       "      <td>...</td>\n",
       "      <td>...</td>\n",
       "      <td>...</td>\n",
       "      <td>...</td>\n",
       "      <td>...</td>\n",
       "      <td>...</td>\n",
       "      <td>...</td>\n",
       "      <td>...</td>\n",
       "    </tr>\n",
       "    <tr>\n",
       "      <th>34862</th>\n",
       "      <td>34862</td>\n",
       "      <td>02/07/16</td>\n",
       "      <td>2016.0</td>\n",
       "      <td>February</td>\n",
       "      <td>38.0</td>\n",
       "      <td>M</td>\n",
       "      <td>France</td>\n",
       "      <td>Hauts de Seine</td>\n",
       "      <td>Bikes</td>\n",
       "      <td>Mountain Bikes</td>\n",
       "      <td>2.0</td>\n",
       "      <td>1160.00</td>\n",
       "      <td>985.500000</td>\n",
       "      <td>2320.0</td>\n",
       "      <td>1971.000000</td>\n",
       "      <td>NaN</td>\n",
       "    </tr>\n",
       "    <tr>\n",
       "      <th>34863</th>\n",
       "      <td>34863</td>\n",
       "      <td>03/13/15</td>\n",
       "      <td>2015.0</td>\n",
       "      <td>March</td>\n",
       "      <td>38.0</td>\n",
       "      <td>M</td>\n",
       "      <td>France</td>\n",
       "      <td>Hauts de Seine</td>\n",
       "      <td>Bikes</td>\n",
       "      <td>Mountain Bikes</td>\n",
       "      <td>1.0</td>\n",
       "      <td>2049.00</td>\n",
       "      <td>1583.000000</td>\n",
       "      <td>2049.0</td>\n",
       "      <td>1583.000000</td>\n",
       "      <td>NaN</td>\n",
       "    </tr>\n",
       "    <tr>\n",
       "      <th>34864</th>\n",
       "      <td>34864</td>\n",
       "      <td>04/05/15</td>\n",
       "      <td>2015.0</td>\n",
       "      <td>April</td>\n",
       "      <td>38.0</td>\n",
       "      <td>M</td>\n",
       "      <td>France</td>\n",
       "      <td>Hauts de Seine</td>\n",
       "      <td>Bikes</td>\n",
       "      <td>Mountain Bikes</td>\n",
       "      <td>3.0</td>\n",
       "      <td>683.00</td>\n",
       "      <td>560.666667</td>\n",
       "      <td>2049.0</td>\n",
       "      <td>1682.000000</td>\n",
       "      <td>NaN</td>\n",
       "    </tr>\n",
       "    <tr>\n",
       "      <th>34865</th>\n",
       "      <td>34865</td>\n",
       "      <td>08/30/15</td>\n",
       "      <td>2015.0</td>\n",
       "      <td>August</td>\n",
       "      <td>38.0</td>\n",
       "      <td>M</td>\n",
       "      <td>France</td>\n",
       "      <td>Hauts de Seine</td>\n",
       "      <td>Bikes</td>\n",
       "      <td>Mountain Bikes</td>\n",
       "      <td>1.0</td>\n",
       "      <td>2320.00</td>\n",
       "      <td>1568.000000</td>\n",
       "      <td>2320.0</td>\n",
       "      <td>1568.000000</td>\n",
       "      <td>NaN</td>\n",
       "    </tr>\n",
       "    <tr>\n",
       "      <th>34866</th>\n",
       "      <td>34866</td>\n",
       "      <td>NaN</td>\n",
       "      <td>NaN</td>\n",
       "      <td>NaN</td>\n",
       "      <td>NaN</td>\n",
       "      <td>NaN</td>\n",
       "      <td>NaN</td>\n",
       "      <td>NaN</td>\n",
       "      <td>NaN</td>\n",
       "      <td>NaN</td>\n",
       "      <td>NaN</td>\n",
       "      <td>NaN</td>\n",
       "      <td>NaN</td>\n",
       "      <td>NaN</td>\n",
       "      <td>641.532095</td>\n",
       "      <td>NaN</td>\n",
       "    </tr>\n",
       "  </tbody>\n",
       "</table>\n",
       "<p>34867 rows × 16 columns</p>\n",
       "</div>"
      ],
      "text/plain": [
       "       index      Date    Year     Month  Customer Age Customer Gender  \\\n",
       "0          0  02/19/16  2016.0  February          29.0               F   \n",
       "1          1  02/20/16  2016.0  February          29.0               F   \n",
       "2          2  02/27/16  2016.0  February          29.0               F   \n",
       "3          3  03/12/16  2016.0     March          29.0               F   \n",
       "4          4  03/12/16  2016.0     March          29.0               F   \n",
       "...      ...       ...     ...       ...           ...             ...   \n",
       "34862  34862  02/07/16  2016.0  February          38.0               M   \n",
       "34863  34863  03/13/15  2015.0     March          38.0               M   \n",
       "34864  34864  04/05/15  2015.0     April          38.0               M   \n",
       "34865  34865  08/30/15  2015.0    August          38.0               M   \n",
       "34866  34866       NaN     NaN       NaN           NaN             NaN   \n",
       "\n",
       "             Country           State Product Category     Sub Category  \\\n",
       "0      United States      Washington      Accessories  Tires and Tubes   \n",
       "1      United States      Washington         Clothing           Gloves   \n",
       "2      United States      Washington      Accessories  Tires and Tubes   \n",
       "3      United States      Washington      Accessories  Tires and Tubes   \n",
       "4      United States      Washington      Accessories  Tires and Tubes   \n",
       "...              ...             ...              ...              ...   \n",
       "34862         France  Hauts de Seine            Bikes   Mountain Bikes   \n",
       "34863         France  Hauts de Seine            Bikes   Mountain Bikes   \n",
       "34864         France  Hauts de Seine            Bikes   Mountain Bikes   \n",
       "34865         France  Hauts de Seine            Bikes   Mountain Bikes   \n",
       "34866            NaN             NaN              NaN              NaN   \n",
       "\n",
       "       Quantity  Unit Cost   Unit Price    Cost      Revenue  Column1  \n",
       "0           1.0      80.00   109.000000    80.0   109.000000      NaN  \n",
       "1           2.0      24.50    28.500000    49.0    57.000000      NaN  \n",
       "2           3.0       3.67     5.000000    11.0    15.000000      NaN  \n",
       "3           2.0      87.50   116.500000   175.0   233.000000      NaN  \n",
       "4           3.0      35.00    41.666667   105.0   125.000000      NaN  \n",
       "...         ...        ...          ...     ...          ...      ...  \n",
       "34862       2.0    1160.00   985.500000  2320.0  1971.000000      NaN  \n",
       "34863       1.0    2049.00  1583.000000  2049.0  1583.000000      NaN  \n",
       "34864       3.0     683.00   560.666667  2049.0  1682.000000      NaN  \n",
       "34865       1.0    2320.00  1568.000000  2320.0  1568.000000      NaN  \n",
       "34866       NaN        NaN          NaN     NaN   641.532095      NaN  \n",
       "\n",
       "[34867 rows x 16 columns]"
      ]
     },
     "execution_count": 16,
     "metadata": {},
     "output_type": "execute_result"
    }
   ],
   "source": [
    "dataframe=pd.read_csv(\"SalesForCourse_quizz_table.csv\")\n",
    "dataframe"
   ]
  },
  {
   "cell_type": "markdown",
   "metadata": {},
   "source": [
    "# Random Analysis \n"
   ]
  },
  {
   "cell_type": "markdown",
   "metadata": {},
   "source": [
    "Adding payment method it will be required in analyzing customer spending pattern"
   ]
  },
  {
   "cell_type": "code",
   "execution_count": 21,
   "metadata": {},
   "outputs": [],
   "source": [
    "import numpy as np\n",
    "\n",
    "# List of payment methods\n",
    "payment_methods = [\"credit card\",\"cash\",\"mobile payment\",\"DebitCard\"]\n",
    "\n",
    "# Randomly distribute payment method\n",
    "dataframe['Payment_Method'] = np.random.choice(payment_methods, size=len(dataframe))\n"
   ]
  },
  {
   "cell_type": "code",
   "execution_count": 35,
   "metadata": {},
   "outputs": [
    {
     "data": {
      "text/plain": [
       "{'DebitCard': 8586, 'credit card': 8763, 'mobile payment': 8780, 'cash': 8738}"
      ]
     },
     "execution_count": 35,
     "metadata": {},
     "output_type": "execute_result"
    }
   ],
   "source": [
    "freq={}\n",
    "for i in dataframe['Payment_Method']:\n",
    "    if i in freq:\n",
    "        freq[i]+=1\n",
    "    else:\n",
    "        freq[i]=1\n",
    "freq"
   ]
  },
  {
   "cell_type": "code",
   "execution_count": 27,
   "metadata": {},
   "outputs": [
    {
     "data": {
      "text/plain": [
       "mobile payment    8780\n",
       "credit card       8763\n",
       "cash              8738\n",
       "DebitCard         8586\n",
       "Name: Payment_Method, dtype: int64"
      ]
     },
     "execution_count": 27,
     "metadata": {},
     "output_type": "execute_result"
    }
   ],
   "source": [
    "dataframe['Payment_Method'].value_counts()"
   ]
  },
  {
   "cell_type": "code",
   "execution_count": 40,
   "metadata": {},
   "outputs": [
    {
     "data": {
      "text/plain": [
       "71"
      ]
     },
     "execution_count": 40,
     "metadata": {},
     "output_type": "execute_result"
    }
   ],
   "source": [
    "len(dataframe['Customer Age'].unique())"
   ]
  },
  {
   "cell_type": "code",
   "execution_count": 45,
   "metadata": {},
   "outputs": [
    {
     "data": {
      "text/plain": [
       "17.0"
      ]
     },
     "execution_count": 45,
     "metadata": {},
     "output_type": "execute_result"
    }
   ],
   "source": [
    "dataframe['Customer Age'].min()"
   ]
  },
  {
   "cell_type": "code",
   "execution_count": 46,
   "metadata": {},
   "outputs": [
    {
     "data": {
      "text/plain": [
       "87.0"
      ]
     },
     "execution_count": 46,
     "metadata": {},
     "output_type": "execute_result"
    }
   ],
   "source": [
    "dataframe['Customer Age'].max()"
   ]
  },
  {
   "cell_type": "code",
   "execution_count": 55,
   "metadata": {},
   "outputs": [
    {
     "data": {
      "text/plain": [
       "4349"
      ]
     },
     "execution_count": 55,
     "metadata": {},
     "output_type": "execute_result"
    }
   ],
   "source": [
    "t=0\n",
    "for i in dataframe['Customer Age']:\n",
    "    if 18<i<25:\n",
    "        t+=1\n",
    "t"
   ]
  },
  {
   "cell_type": "code",
   "execution_count": 41,
   "metadata": {},
   "outputs": [
    {
     "data": {
      "text/plain": [
       "array([        nan, 2370.      ,  398.      , ..., 1971.      ,\n",
       "       1568.      ,  687.344828])"
      ]
     },
     "execution_count": 41,
     "metadata": {},
     "output_type": "execute_result"
    }
   ],
   "source": [
    "dataframe['Column1'].unique()"
   ]
  },
  {
   "cell_type": "markdown",
   "metadata": {},
   "source": [
    "Question No 1\n",
    "\n",
    "What is the distribution of customer spending in our business? How does it vary by customer segment and over time?"
   ]
  },
  {
   "cell_type": "markdown",
   "metadata": {},
   "source": [
    "Steps For Solving this Question"
   ]
  },
  {
   "cell_type": "markdown",
   "metadata": {},
   "source": [
    "# STEP 1"
   ]
  },
  {
   "cell_type": "markdown",
   "metadata": {},
   "source": [
    "Customer spending by segment. We segment the data on the base of change and check the variation that what type of age group spend more"
   ]
  },
  {
   "cell_type": "code",
   "execution_count": 133,
   "metadata": {},
   "outputs": [],
   "source": [
    "#cleaning of data (filling and dropping)"
   ]
  },
  {
   "cell_type": "code",
   "execution_count": 177,
   "metadata": {},
   "outputs": [],
   "source": [
    "dataframe=dataframe.drop('Column1',axis=1)"
   ]
  },
  {
   "cell_type": "code",
   "execution_count": 181,
   "metadata": {},
   "outputs": [],
   "source": [
    "dataframe=dataframe.dropna()"
   ]
  },
  {
   "cell_type": "code",
   "execution_count": 182,
   "metadata": {},
   "outputs": [
    {
     "data": {
      "text/plain": [
       "index               0\n",
       "Date                0\n",
       "Year                0\n",
       "Month               0\n",
       "Customer Age        0\n",
       "Customer Gender     0\n",
       "Country             0\n",
       "State               0\n",
       "Product Category    0\n",
       "Sub Category        0\n",
       "Quantity            0\n",
       "Unit Cost           0\n",
       "Unit Price          0\n",
       "Cost                0\n",
       "Revenue             0\n",
       "Payment_Method      0\n",
       "Age Segment         0\n",
       "dtype: int64"
      ]
     },
     "execution_count": 182,
     "metadata": {},
     "output_type": "execute_result"
    }
   ],
   "source": [
    "dataframe.isnull().sum()"
   ]
  },
  {
   "cell_type": "markdown",
   "metadata": {},
   "source": [
    "Using pd.cut() to segment data can be helpful when you want to divide a continuous numerical variable into discrete categories for analysis. It's often used in conjunction with groupby() to summarize data by category,"
   ]
  },
  {
   "cell_type": "code",
   "execution_count": 197,
   "metadata": {},
   "outputs": [
    {
     "name": "stderr",
     "output_type": "stream",
     "text": [
      "<ipython-input-197-2db53218c7af>:2: SettingWithCopyWarning: \n",
      "A value is trying to be set on a copy of a slice from a DataFrame.\n",
      "Try using .loc[row_indexer,col_indexer] = value instead\n",
      "\n",
      "See the caveats in the documentation: https://pandas.pydata.org/pandas-docs/stable/user_guide/indexing.html#returning-a-view-versus-a-copy\n",
      "  dataframe[\"Age Segment\"]=pd.cut(dataframe['Customer Age'],bins=[16,25,35,50,100],labels=[\"18-25\",'25-35','36-50','50+'])\n"
     ]
    },
    {
     "data": {
      "text/html": [
       "<div>\n",
       "<style scoped>\n",
       "    .dataframe tbody tr th:only-of-type {\n",
       "        vertical-align: middle;\n",
       "    }\n",
       "\n",
       "    .dataframe tbody tr th {\n",
       "        vertical-align: top;\n",
       "    }\n",
       "\n",
       "    .dataframe thead th {\n",
       "        text-align: right;\n",
       "    }\n",
       "</style>\n",
       "<table border=\"1\" class=\"dataframe\">\n",
       "  <thead>\n",
       "    <tr style=\"text-align: right;\">\n",
       "      <th></th>\n",
       "      <th>index</th>\n",
       "      <th>Date</th>\n",
       "      <th>Year</th>\n",
       "      <th>Month</th>\n",
       "      <th>Customer Age</th>\n",
       "      <th>Customer Gender</th>\n",
       "      <th>Country</th>\n",
       "      <th>State</th>\n",
       "      <th>Product Category</th>\n",
       "      <th>Sub Category</th>\n",
       "      <th>Quantity</th>\n",
       "      <th>Unit Cost</th>\n",
       "      <th>Unit Price</th>\n",
       "      <th>Cost</th>\n",
       "      <th>Revenue</th>\n",
       "      <th>Payment_Method</th>\n",
       "      <th>Age Segment</th>\n",
       "    </tr>\n",
       "  </thead>\n",
       "  <tbody>\n",
       "    <tr>\n",
       "      <th>0</th>\n",
       "      <td>0</td>\n",
       "      <td>02/19/16</td>\n",
       "      <td>2016.0</td>\n",
       "      <td>February</td>\n",
       "      <td>29.0</td>\n",
       "      <td>F</td>\n",
       "      <td>United States</td>\n",
       "      <td>Washington</td>\n",
       "      <td>Accessories</td>\n",
       "      <td>Tires and Tubes</td>\n",
       "      <td>1.0</td>\n",
       "      <td>80.00</td>\n",
       "      <td>109.000000</td>\n",
       "      <td>80.0</td>\n",
       "      <td>109.0</td>\n",
       "      <td>DebitCard</td>\n",
       "      <td>25-35</td>\n",
       "    </tr>\n",
       "    <tr>\n",
       "      <th>1</th>\n",
       "      <td>1</td>\n",
       "      <td>02/20/16</td>\n",
       "      <td>2016.0</td>\n",
       "      <td>February</td>\n",
       "      <td>29.0</td>\n",
       "      <td>F</td>\n",
       "      <td>United States</td>\n",
       "      <td>Washington</td>\n",
       "      <td>Clothing</td>\n",
       "      <td>Gloves</td>\n",
       "      <td>2.0</td>\n",
       "      <td>24.50</td>\n",
       "      <td>28.500000</td>\n",
       "      <td>49.0</td>\n",
       "      <td>57.0</td>\n",
       "      <td>credit card</td>\n",
       "      <td>25-35</td>\n",
       "    </tr>\n",
       "    <tr>\n",
       "      <th>2</th>\n",
       "      <td>2</td>\n",
       "      <td>02/27/16</td>\n",
       "      <td>2016.0</td>\n",
       "      <td>February</td>\n",
       "      <td>29.0</td>\n",
       "      <td>F</td>\n",
       "      <td>United States</td>\n",
       "      <td>Washington</td>\n",
       "      <td>Accessories</td>\n",
       "      <td>Tires and Tubes</td>\n",
       "      <td>3.0</td>\n",
       "      <td>3.67</td>\n",
       "      <td>5.000000</td>\n",
       "      <td>11.0</td>\n",
       "      <td>15.0</td>\n",
       "      <td>mobile payment</td>\n",
       "      <td>25-35</td>\n",
       "    </tr>\n",
       "    <tr>\n",
       "      <th>3</th>\n",
       "      <td>3</td>\n",
       "      <td>03/12/16</td>\n",
       "      <td>2016.0</td>\n",
       "      <td>March</td>\n",
       "      <td>29.0</td>\n",
       "      <td>F</td>\n",
       "      <td>United States</td>\n",
       "      <td>Washington</td>\n",
       "      <td>Accessories</td>\n",
       "      <td>Tires and Tubes</td>\n",
       "      <td>2.0</td>\n",
       "      <td>87.50</td>\n",
       "      <td>116.500000</td>\n",
       "      <td>175.0</td>\n",
       "      <td>233.0</td>\n",
       "      <td>mobile payment</td>\n",
       "      <td>25-35</td>\n",
       "    </tr>\n",
       "    <tr>\n",
       "      <th>4</th>\n",
       "      <td>4</td>\n",
       "      <td>03/12/16</td>\n",
       "      <td>2016.0</td>\n",
       "      <td>March</td>\n",
       "      <td>29.0</td>\n",
       "      <td>F</td>\n",
       "      <td>United States</td>\n",
       "      <td>Washington</td>\n",
       "      <td>Accessories</td>\n",
       "      <td>Tires and Tubes</td>\n",
       "      <td>3.0</td>\n",
       "      <td>35.00</td>\n",
       "      <td>41.666667</td>\n",
       "      <td>105.0</td>\n",
       "      <td>125.0</td>\n",
       "      <td>cash</td>\n",
       "      <td>25-35</td>\n",
       "    </tr>\n",
       "    <tr>\n",
       "      <th>...</th>\n",
       "      <td>...</td>\n",
       "      <td>...</td>\n",
       "      <td>...</td>\n",
       "      <td>...</td>\n",
       "      <td>...</td>\n",
       "      <td>...</td>\n",
       "      <td>...</td>\n",
       "      <td>...</td>\n",
       "      <td>...</td>\n",
       "      <td>...</td>\n",
       "      <td>...</td>\n",
       "      <td>...</td>\n",
       "      <td>...</td>\n",
       "      <td>...</td>\n",
       "      <td>...</td>\n",
       "      <td>...</td>\n",
       "      <td>...</td>\n",
       "    </tr>\n",
       "    <tr>\n",
       "      <th>34861</th>\n",
       "      <td>34861</td>\n",
       "      <td>03/22/15</td>\n",
       "      <td>2015.0</td>\n",
       "      <td>March</td>\n",
       "      <td>38.0</td>\n",
       "      <td>M</td>\n",
       "      <td>France</td>\n",
       "      <td>Charente-Maritime</td>\n",
       "      <td>Bikes</td>\n",
       "      <td>Mountain Bikes</td>\n",
       "      <td>1.0</td>\n",
       "      <td>2049.00</td>\n",
       "      <td>1487.000000</td>\n",
       "      <td>2049.0</td>\n",
       "      <td>1487.0</td>\n",
       "      <td>credit card</td>\n",
       "      <td>36-50</td>\n",
       "    </tr>\n",
       "    <tr>\n",
       "      <th>34862</th>\n",
       "      <td>34862</td>\n",
       "      <td>02/07/16</td>\n",
       "      <td>2016.0</td>\n",
       "      <td>February</td>\n",
       "      <td>38.0</td>\n",
       "      <td>M</td>\n",
       "      <td>France</td>\n",
       "      <td>Hauts de Seine</td>\n",
       "      <td>Bikes</td>\n",
       "      <td>Mountain Bikes</td>\n",
       "      <td>2.0</td>\n",
       "      <td>1160.00</td>\n",
       "      <td>985.500000</td>\n",
       "      <td>2320.0</td>\n",
       "      <td>1971.0</td>\n",
       "      <td>cash</td>\n",
       "      <td>36-50</td>\n",
       "    </tr>\n",
       "    <tr>\n",
       "      <th>34863</th>\n",
       "      <td>34863</td>\n",
       "      <td>03/13/15</td>\n",
       "      <td>2015.0</td>\n",
       "      <td>March</td>\n",
       "      <td>38.0</td>\n",
       "      <td>M</td>\n",
       "      <td>France</td>\n",
       "      <td>Hauts de Seine</td>\n",
       "      <td>Bikes</td>\n",
       "      <td>Mountain Bikes</td>\n",
       "      <td>1.0</td>\n",
       "      <td>2049.00</td>\n",
       "      <td>1583.000000</td>\n",
       "      <td>2049.0</td>\n",
       "      <td>1583.0</td>\n",
       "      <td>cash</td>\n",
       "      <td>36-50</td>\n",
       "    </tr>\n",
       "    <tr>\n",
       "      <th>34864</th>\n",
       "      <td>34864</td>\n",
       "      <td>04/05/15</td>\n",
       "      <td>2015.0</td>\n",
       "      <td>April</td>\n",
       "      <td>38.0</td>\n",
       "      <td>M</td>\n",
       "      <td>France</td>\n",
       "      <td>Hauts de Seine</td>\n",
       "      <td>Bikes</td>\n",
       "      <td>Mountain Bikes</td>\n",
       "      <td>3.0</td>\n",
       "      <td>683.00</td>\n",
       "      <td>560.666667</td>\n",
       "      <td>2049.0</td>\n",
       "      <td>1682.0</td>\n",
       "      <td>mobile payment</td>\n",
       "      <td>36-50</td>\n",
       "    </tr>\n",
       "    <tr>\n",
       "      <th>34865</th>\n",
       "      <td>34865</td>\n",
       "      <td>08/30/15</td>\n",
       "      <td>2015.0</td>\n",
       "      <td>August</td>\n",
       "      <td>38.0</td>\n",
       "      <td>M</td>\n",
       "      <td>France</td>\n",
       "      <td>Hauts de Seine</td>\n",
       "      <td>Bikes</td>\n",
       "      <td>Mountain Bikes</td>\n",
       "      <td>1.0</td>\n",
       "      <td>2320.00</td>\n",
       "      <td>1568.000000</td>\n",
       "      <td>2320.0</td>\n",
       "      <td>1568.0</td>\n",
       "      <td>cash</td>\n",
       "      <td>36-50</td>\n",
       "    </tr>\n",
       "  </tbody>\n",
       "</table>\n",
       "<p>34866 rows × 17 columns</p>\n",
       "</div>"
      ],
      "text/plain": [
       "       index      Date    Year     Month  Customer Age Customer Gender  \\\n",
       "0          0  02/19/16  2016.0  February          29.0               F   \n",
       "1          1  02/20/16  2016.0  February          29.0               F   \n",
       "2          2  02/27/16  2016.0  February          29.0               F   \n",
       "3          3  03/12/16  2016.0     March          29.0               F   \n",
       "4          4  03/12/16  2016.0     March          29.0               F   \n",
       "...      ...       ...     ...       ...           ...             ...   \n",
       "34861  34861  03/22/15  2015.0     March          38.0               M   \n",
       "34862  34862  02/07/16  2016.0  February          38.0               M   \n",
       "34863  34863  03/13/15  2015.0     March          38.0               M   \n",
       "34864  34864  04/05/15  2015.0     April          38.0               M   \n",
       "34865  34865  08/30/15  2015.0    August          38.0               M   \n",
       "\n",
       "             Country              State Product Category     Sub Category  \\\n",
       "0      United States         Washington      Accessories  Tires and Tubes   \n",
       "1      United States         Washington         Clothing           Gloves   \n",
       "2      United States         Washington      Accessories  Tires and Tubes   \n",
       "3      United States         Washington      Accessories  Tires and Tubes   \n",
       "4      United States         Washington      Accessories  Tires and Tubes   \n",
       "...              ...                ...              ...              ...   \n",
       "34861         France  Charente-Maritime            Bikes   Mountain Bikes   \n",
       "34862         France     Hauts de Seine            Bikes   Mountain Bikes   \n",
       "34863         France     Hauts de Seine            Bikes   Mountain Bikes   \n",
       "34864         France     Hauts de Seine            Bikes   Mountain Bikes   \n",
       "34865         France     Hauts de Seine            Bikes   Mountain Bikes   \n",
       "\n",
       "       Quantity  Unit Cost   Unit Price    Cost  Revenue  Payment_Method  \\\n",
       "0           1.0      80.00   109.000000    80.0    109.0       DebitCard   \n",
       "1           2.0      24.50    28.500000    49.0     57.0     credit card   \n",
       "2           3.0       3.67     5.000000    11.0     15.0  mobile payment   \n",
       "3           2.0      87.50   116.500000   175.0    233.0  mobile payment   \n",
       "4           3.0      35.00    41.666667   105.0    125.0            cash   \n",
       "...         ...        ...          ...     ...      ...             ...   \n",
       "34861       1.0    2049.00  1487.000000  2049.0   1487.0     credit card   \n",
       "34862       2.0    1160.00   985.500000  2320.0   1971.0            cash   \n",
       "34863       1.0    2049.00  1583.000000  2049.0   1583.0            cash   \n",
       "34864       3.0     683.00   560.666667  2049.0   1682.0  mobile payment   \n",
       "34865       1.0    2320.00  1568.000000  2320.0   1568.0            cash   \n",
       "\n",
       "      Age Segment  \n",
       "0           25-35  \n",
       "1           25-35  \n",
       "2           25-35  \n",
       "3           25-35  \n",
       "4           25-35  \n",
       "...           ...  \n",
       "34861       36-50  \n",
       "34862       36-50  \n",
       "34863       36-50  \n",
       "34864       36-50  \n",
       "34865       36-50  \n",
       "\n",
       "[34866 rows x 17 columns]"
      ]
     },
     "execution_count": 197,
     "metadata": {},
     "output_type": "execute_result"
    }
   ],
   "source": [
    "#Customer Spending age segment\n",
    "dataframe[\"Age Segment\"]=pd.cut(dataframe['Customer Age'],bins=[16,25,35,50,100],labels=[\"18-25\",'25-35','36-50','50+'])\n",
    "dataframe"
   ]
  },
  {
   "cell_type": "code",
   "execution_count": 198,
   "metadata": {},
   "outputs": [
    {
     "data": {
      "text/plain": [
       "Age Segment\n",
       "18-25    3141072.0\n",
       "25-35    8028242.0\n",
       "36-50    8556148.0\n",
       "50+      2619114.0\n",
       "Name: Revenue, dtype: float64"
      ]
     },
     "execution_count": 198,
     "metadata": {},
     "output_type": "execute_result"
    }
   ],
   "source": [
    "#Now Calculating the spending depend on the age segment\n",
    "AgeSegmentSpending=dataframe.groupby('Age Segment')[\"Revenue\"].sum()\n",
    "AgeSegmentSpending"
   ]
  },
  {
   "cell_type": "markdown",
   "metadata": {},
   "source": [
    "# STEP 2"
   ]
  },
  {
   "cell_type": "markdown",
   "metadata": {},
   "source": [
    "Describe the distribution of spending by descriptive statistics"
   ]
  },
  {
   "cell_type": "code",
   "execution_count": 199,
   "metadata": {},
   "outputs": [
    {
     "data": {
      "text/html": [
       "<div>\n",
       "<style scoped>\n",
       "    .dataframe tbody tr th:only-of-type {\n",
       "        vertical-align: middle;\n",
       "    }\n",
       "\n",
       "    .dataframe tbody tr th {\n",
       "        vertical-align: top;\n",
       "    }\n",
       "\n",
       "    .dataframe thead th {\n",
       "        text-align: right;\n",
       "    }\n",
       "</style>\n",
       "<table border=\"1\" class=\"dataframe\">\n",
       "  <thead>\n",
       "    <tr style=\"text-align: right;\">\n",
       "      <th></th>\n",
       "      <th>count</th>\n",
       "      <th>mean</th>\n",
       "      <th>std</th>\n",
       "      <th>min</th>\n",
       "      <th>25%</th>\n",
       "      <th>50%</th>\n",
       "      <th>75%</th>\n",
       "      <th>max</th>\n",
       "    </tr>\n",
       "    <tr>\n",
       "      <th>Age Segment</th>\n",
       "      <th></th>\n",
       "      <th></th>\n",
       "      <th></th>\n",
       "      <th></th>\n",
       "      <th></th>\n",
       "      <th></th>\n",
       "      <th></th>\n",
       "      <th></th>\n",
       "    </tr>\n",
       "  </thead>\n",
       "  <tbody>\n",
       "    <tr>\n",
       "      <th>18-25</th>\n",
       "      <td>6076.0</td>\n",
       "      <td>516.963792</td>\n",
       "      <td>636.803517</td>\n",
       "      <td>2.0</td>\n",
       "      <td>84.0</td>\n",
       "      <td>222.0</td>\n",
       "      <td>729.00</td>\n",
       "      <td>4550.0</td>\n",
       "    </tr>\n",
       "    <tr>\n",
       "      <th>25-35</th>\n",
       "      <td>11826.0</td>\n",
       "      <td>678.863690</td>\n",
       "      <td>743.035003</td>\n",
       "      <td>2.0</td>\n",
       "      <td>116.0</td>\n",
       "      <td>392.0</td>\n",
       "      <td>960.75</td>\n",
       "      <td>4113.0</td>\n",
       "    </tr>\n",
       "    <tr>\n",
       "      <th>36-50</th>\n",
       "      <td>12696.0</td>\n",
       "      <td>673.924701</td>\n",
       "      <td>770.476732</td>\n",
       "      <td>2.0</td>\n",
       "      <td>106.0</td>\n",
       "      <td>335.0</td>\n",
       "      <td>962.25</td>\n",
       "      <td>5082.0</td>\n",
       "    </tr>\n",
       "    <tr>\n",
       "      <th>50+</th>\n",
       "      <td>4268.0</td>\n",
       "      <td>613.663074</td>\n",
       "      <td>728.402087</td>\n",
       "      <td>2.0</td>\n",
       "      <td>92.0</td>\n",
       "      <td>285.5</td>\n",
       "      <td>848.00</td>\n",
       "      <td>4266.0</td>\n",
       "    </tr>\n",
       "  </tbody>\n",
       "</table>\n",
       "</div>"
      ],
      "text/plain": [
       "               count        mean         std  min    25%    50%     75%  \\\n",
       "Age Segment                                                               \n",
       "18-25         6076.0  516.963792  636.803517  2.0   84.0  222.0  729.00   \n",
       "25-35        11826.0  678.863690  743.035003  2.0  116.0  392.0  960.75   \n",
       "36-50        12696.0  673.924701  770.476732  2.0  106.0  335.0  962.25   \n",
       "50+           4268.0  613.663074  728.402087  2.0   92.0  285.5  848.00   \n",
       "\n",
       "                max  \n",
       "Age Segment          \n",
       "18-25        4550.0  \n",
       "25-35        4113.0  \n",
       "36-50        5082.0  \n",
       "50+          4266.0  "
      ]
     },
     "execution_count": 199,
     "metadata": {},
     "output_type": "execute_result"
    }
   ],
   "source": [
    "DescriptiveStats=dataframe.groupby('Age Segment')[\"Revenue\"].describe()\n",
    "DescriptiveStats"
   ]
  },
  {
   "cell_type": "markdown",
   "metadata": {},
   "source": [
    "As we can see that std is bigger than mean because std is highly sensitive by outliers and by seeing rougly we can clearly see that there is huge difference between max and remaining quantiles. We can also see by visualizing the data"
   ]
  },
  {
   "cell_type": "code",
   "execution_count": 200,
   "metadata": {},
   "outputs": [],
   "source": [
    "#Checking the distribution of data by rough analysis\n",
    "#Difference Between the min and max and assuming outliers"
   ]
  },
  {
   "cell_type": "code",
   "execution_count": 201,
   "metadata": {},
   "outputs": [],
   "source": [
    "ff=dataframe.groupby('Age Segment')[\"Revenue\"]"
   ]
  },
  {
   "cell_type": "code",
   "execution_count": 202,
   "metadata": {},
   "outputs": [
    {
     "data": {
      "text/plain": [
       "4550.0"
      ]
     },
     "execution_count": 202,
     "metadata": {},
     "output_type": "execute_result"
    }
   ],
   "source": [
    "a18_25=[]\n",
    "for i in ff:\n",
    "    if i[0]=='18-25':\n",
    "        a18_25.append(i[1])\n",
    "max(a18_25[0])"
   ]
  },
  {
   "cell_type": "code",
   "execution_count": 203,
   "metadata": {},
   "outputs": [
    {
     "data": {
      "text/plain": [
       "1"
      ]
     },
     "execution_count": 203,
     "metadata": {},
     "output_type": "execute_result"
    }
   ],
   "source": [
    "a18_25_Out=0\n",
    "for i in a18_25[0]:\n",
    "    if i>=4000:\n",
    "        a18_25_Out+=1\n",
    "a18_25_Out      "
   ]
  },
  {
   "cell_type": "code",
   "execution_count": 204,
   "metadata": {},
   "outputs": [],
   "source": [
    "a25_35=[]\n",
    "for i in ff:\n",
    "    if i[0]=='25-35':\n",
    "        a25_35.append(i[1])"
   ]
  },
  {
   "cell_type": "code",
   "execution_count": 205,
   "metadata": {},
   "outputs": [
    {
     "name": "stdout",
     "output_type": "stream",
     "text": [
      "4113.0\n"
     ]
    },
    {
     "data": {
      "text/plain": [
       "1"
      ]
     },
     "execution_count": 205,
     "metadata": {},
     "output_type": "execute_result"
    }
   ],
   "source": [
    "a25_35_Out=0\n",
    "for i in a25_35[0]:\n",
    "    if i>=4000:\n",
    "        a25_35_Out+=1\n",
    "        print(i)\n",
    "a25_35_Out      "
   ]
  },
  {
   "cell_type": "code",
   "execution_count": 206,
   "metadata": {},
   "outputs": [
    {
     "data": {
      "text/plain": [
       "[79        873.0\n",
       " 80        751.0\n",
       " 81       2340.0\n",
       " 82        707.0\n",
       " 83       2340.0\n",
       "           ...  \n",
       " 34861    1487.0\n",
       " 34862    1971.0\n",
       " 34863    1583.0\n",
       " 34864    1682.0\n",
       " 34865    1568.0\n",
       " Name: Revenue, Length: 12696, dtype: float64]"
      ]
     },
     "execution_count": 206,
     "metadata": {},
     "output_type": "execute_result"
    }
   ],
   "source": [
    "a36_50=[]\n",
    "for i in ff:\n",
    "    if i[0]=='36-50':\n",
    "        a36_50.append(i[1])\n",
    "a36_50"
   ]
  },
  {
   "cell_type": "code",
   "execution_count": 207,
   "metadata": {},
   "outputs": [
    {
     "name": "stdout",
     "output_type": "stream",
     "text": [
      "4923.0\n",
      "5082.0\n"
     ]
    },
    {
     "data": {
      "text/plain": [
       "2"
      ]
     },
     "execution_count": 207,
     "metadata": {},
     "output_type": "execute_result"
    }
   ],
   "source": [
    "a36_50_Out=0\n",
    "for i in a36_50[0]:\n",
    "    if i>4500:\n",
    "        a36_50_Out+=1\n",
    "        print(i)\n",
    "a36_50_Out"
   ]
  },
  {
   "cell_type": "markdown",
   "metadata": {},
   "source": [
    "# STEP 3"
   ]
  },
  {
   "cell_type": "markdown",
   "metadata": {},
   "source": [
    "Use visualization such as histo or boxplot to visualize the pattern and the distribution and patterns"
   ]
  },
  {
   "cell_type": "code",
   "execution_count": 141,
   "metadata": {},
   "outputs": [
    {
     "data": {
      "image/png": "[encoded data removed]",
      "text/plain": [
       "<Figure size 720x432 with 1 Axes>"
      ]
     },
     "metadata": {
      "needs_background": "light"
     },
     "output_type": "display_data"
    }
   ],
   "source": [
    "fig, ax = plt.subplots(figsize=(10,6)) # Set figure size to 10x6 inches\n",
    "dataframe.boxplot(column='Revenue', by='Age Segment', ax=ax)\n",
    "ax.set_title('Spending Distribution by Age Segment')\n",
    "ax.set_xlabel('Age Segment')\n",
    "ax.set_ylabel('Amount')\n",
    "plt.show()"
   ]
  },
  {
   "cell_type": "code",
   "execution_count": 154,
   "metadata": {},
   "outputs": [
    {
     "data": {
      "image/png": "[encoded data removed]",
      "text/plain": [
       "<Figure size 576x432 with 1 Axes>"
      ]
     },
     "metadata": {
      "needs_background": "light"
     },
     "output_type": "display_data"
    },
    {
     "data": {
      "image/png": "[encoded data removed]",
      "text/plain": [
       "<Figure size 576x432 with 1 Axes>"
      ]
     },
     "metadata": {
      "needs_background": "light"
     },
     "output_type": "display_data"
    },
    {
     "data": {
      "image/png": "[encoded data removed]",
      "text/plain": [
       "<Figure size 576x432 with 1 Axes>"
      ]
     },
     "metadata": {
      "needs_background": "light"
     },
     "output_type": "display_data"
    },
    {
     "data": {
      "image/png": "[encoded data removed]",
      "text/plain": [
       "<Figure size 576x432 with 1 Axes>"
      ]
     },
     "metadata": {
      "needs_background": "light"
     },
     "output_type": "display_data"
    }
   ],
   "source": [
    "for label, grp in dataframe.groupby('Age Segment'):\n",
    "    fig, ax = plt.subplots(figsize=(8,6))\n",
    "    ax.hist(grp['Revenue'], bins=20)\n",
    "    ax.set_title(f'Histogram of Spending by Age Segment {label}')\n",
    "    ax.set_xlabel('Amount')\n",
    "    ax.set_ylabel('Frequency')\n",
    "    plt.show()\n"
   ]
  },
  {
   "cell_type": "code",
   "execution_count": 169,
   "metadata": {},
   "outputs": [
    {
     "data": {
      "text/plain": [
       "(-1.598, 361.8]     19145\n",
       "(361.8, 721.6]       5895\n",
       "(721.6, 1081.4]      3935\n",
       "(2160.8, 2520.6]     2990\n",
       "(1081.4, 1441.2]     1480\n",
       "(1441.2, 1801.0]      946\n",
       "(1801.0, 2160.8]      463\n",
       "(2880.4, 3240.2]        6\n",
       "(2520.6, 2880.4]        4\n",
       "(3240.2, 3600.0]        2\n",
       "Name: Cost, dtype: int64"
      ]
     },
     "execution_count": 169,
     "metadata": {},
     "output_type": "execute_result"
    }
   ],
   "source": [
    "cost=pd.cut(dataframe['Cost'],10)\n",
    "cc=cost.value_counts()\n",
    "cc"
   ]
  },
  {
   "cell_type": "code",
   "execution_count": 171,
   "metadata": {},
   "outputs": [
    {
     "data": {
      "text/plain": [
       "Text(0.5, 0, 'Most Spending Cost Range')"
      ]
     },
     "execution_count": 171,
     "metadata": {},
     "output_type": "execute_result"
    },
    {
     "data": {
      "image/png": "[encoded data removed]",
      "text/plain": [
       "<Figure size 720x720 with 1 Axes>"
      ]
     },
     "metadata": {
      "needs_background": "light"
     },
     "output_type": "display_data"
    }
   ],
   "source": [
    "ax = (dataframe[\"Cost\"]).plot.hist(figsize=(10, 10)) \n",
    "ax.set_xlabel('Most Spending Cost Range')"
   ]
  },
  {
   "cell_type": "markdown",
   "metadata": {},
   "source": [
    "There Are some of the more ways to segment the data :\n",
    "\n",
    "\n",
    "(1)Income: Segmenting customers by income level is a common practice, as higher-income customers may have different spending patterns than lower-income customers.\n",
    "\n",
    "(2)Geography: Segmenting customers by geographic location can be useful for identifying regional spending patterns or targeting specific markets.\n",
    "\n",
    "(3)Gender: Some businesses may find it useful to segment their customers by gender, as men and women may have different spending habits.\n",
    "\n",
    "(4)Purchase history: Analyzing customers' purchase history can reveal spending patterns related to certain product categories or types of purchases.\n",
    "\n",
    "(5)Loyalty status: Segmenting customers by their loyalty status, such as frequent shoppers or first-time customers, can help businesses identify spending patterns related to customer retention and loyalty programs.\n",
    "\n",
    "(6)Time of day/week/month: Analyzing spending patterns by time of day, week, or month can provide insights into customer behavior related to specific times or seasons.\n",
    "\n",
    "(7)Purchase frequency: Segmenting customers based on their purchase frequency can help identify the most loyal customers and target them with special promotions or rewards.\n",
    "\n",
    "(8)Can also Segment customer by thier spending and classify them as (A,B,C)"
   ]
  },
  {
   "cell_type": "markdown",
   "metadata": {},
   "source": [
    "\n",
    "We work on 2,3,6 because 1,4,7 needs customer id which we dont have in this data"
   ]
  },
  {
   "cell_type": "markdown",
   "metadata": {},
   "source": [
    "# SEGMENTATION BY GEOGRAPHY"
   ]
  },
  {
   "cell_type": "markdown",
   "metadata": {},
   "source": [
    "Segmenting customers by geographic location can be useful for identifying regional spending patterns or targeting specific markets.\n",
    "\n"
   ]
  },
  {
   "cell_type": "markdown",
   "metadata": {},
   "source": [
    "visualize the distribution of customers by location"
   ]
  },
  {
   "cell_type": "code",
   "execution_count": 213,
   "metadata": {},
   "outputs": [
    {
     "data": {
      "text/plain": [
       "count          34866\n",
       "unique            45\n",
       "top       California\n",
       "freq           10332\n",
       "Name: State, dtype: object"
      ]
     },
     "execution_count": 213,
     "metadata": {},
     "output_type": "execute_result"
    }
   ],
   "source": [
    "dataframe['State'].describe()"
   ]
  },
  {
   "cell_type": "code",
   "execution_count": 232,
   "metadata": {},
   "outputs": [],
   "source": [
    "freq={}\n",
    "for i in dataframe['State']:\n",
    "    if i in freq:\n",
    "        freq[i]+=1\n",
    "    else:\n",
    "        freq[i]=1"
   ]
  },
  {
   "cell_type": "code",
   "execution_count": 233,
   "metadata": {},
   "outputs": [
    {
     "data": {
      "text/plain": [
       "{'Washington': 5204,\n",
       " 'California': 10332,\n",
       " 'Oregon': 2446,\n",
       " 'Essonne': 465,\n",
       " 'Yveline': 442,\n",
       " 'England': 6421,\n",
       " 'Hessen': 1112,\n",
       " 'Hamburg': 869,\n",
       " 'Seine Saint Denis': 796,\n",
       " 'Saarland': 1287,\n",
       " 'Nordrhein-Westfalen': 1171,\n",
       " 'Bayern': 668,\n",
       " 'Seine (Paris)': 1092,\n",
       " 'Pas de Calais': 42,\n",
       " 'Moselle': 181,\n",
       " 'Hauts de Seine': 509,\n",
       " 'Nord': 787,\n",
       " 'Seine et Marne': 183,\n",
       " 'Loiret': 178,\n",
       " 'Charente-Maritime': 70,\n",
       " 'Loir et Cher': 57,\n",
       " 'Brandenburg': 94,\n",
       " 'Alabama': 2,\n",
       " \"Val d'Oise\": 130,\n",
       " 'Val de Marne': 75,\n",
       " 'Minnesota': 3,\n",
       " 'Wyoming': 3,\n",
       " 'Ohio': 13,\n",
       " 'Garonne (Haute)': 100,\n",
       " 'Kentucky': 4,\n",
       " 'Texas': 14,\n",
       " 'Missouri': 1,\n",
       " 'Somme': 61,\n",
       " 'New York': 10,\n",
       " 'Florida': 7,\n",
       " 'Illinois': 14,\n",
       " 'South Carolina': 5,\n",
       " 'North Carolina': 2,\n",
       " 'Georgia': 2,\n",
       " 'Virginia': 2,\n",
       " 'Mississippi': 2,\n",
       " 'Montana': 2,\n",
       " 'Arizona': 2,\n",
       " 'Massachusetts': 1,\n",
       " 'Utah': 5}"
      ]
     },
     "execution_count": 233,
     "metadata": {},
     "output_type": "execute_result"
    }
   ],
   "source": [
    "freq"
   ]
  },
  {
   "cell_type": "code",
   "execution_count": 240,
   "metadata": {},
   "outputs": [
    {
     "data": {
      "image/png": "[encoded data removed]",
      "text/plain": [
       "<Figure size 720x576 with 1 Axes>"
      ]
     },
     "metadata": {
      "needs_background": "light"
     },
     "output_type": "display_data"
    }
   ],
   "source": [
    "plt.figure(figsize=(10,8))\n",
    "plt.bar(freq.keys(), freq.values())\n",
    "plt.xticks(rotation=90)\n",
    "plt.xlabel('State')\n",
    "plt.ylabel('Count')\n",
    "plt.title('Distribution of states')\n",
    "plt.show()\n",
    "#We can say that the people of california spends more than all the cities as we can see they spend way more than every city as they look like outlier thier"
   ]
  },
  {
   "cell_type": "code",
   "execution_count": 245,
   "metadata": {},
   "outputs": [],
   "source": [
    "import requests\n",
    "\n",
    "cities = ['Washington', 'California', 'Oregon', 'Essonne', 'Yveline', 'England', 'Hessen', 'Hamburg', 'Seine Saint Denis', 'Saarland', 'Nordrhein-Westfalen', 'Bayern', 'Seine (Paris)', 'Pas de Calais', 'Moselle', 'Hauts de Seine', 'Nord', 'Seine et Marne', 'Loiret', 'Charente-Maritime', 'Loir et Cher', 'Brandenburg', 'Alabama', \"Val d'Oise\", 'Val de Marne', 'Minnesota', 'Wyoming', 'Ohio', 'Garonne (Haute)', 'Kentucky', 'Texas', 'Missouri', 'Somme', 'New York', 'Florida', 'Illinois', 'South Carolina', 'North Carolina', 'Georgia', 'Virginia', 'Mississippi', 'Montana', 'Arizona', 'Massachusetts', 'Utah']\n",
    "data=[]\n",
    "for city in cities:\n",
    "    url = f\"https://nominatim.openstreetmap.org/search?q={city}&format=json&limit=1\"\n",
    "    response = requests.get(url).json()\n",
    "    if response:\n",
    "        lat = response[0]['lat']\n",
    "        lon = response[0]['lon']\n",
    "        data.append(f\"{city}: ({lat}, {lon})\")\n"
   ]
  },
  {
   "cell_type": "code",
   "execution_count": 250,
   "metadata": {},
   "outputs": [
    {
     "data": {
      "text/html": [
       "<div>\n",
       "<style scoped>\n",
       "    .dataframe tbody tr th:only-of-type {\n",
       "        vertical-align: middle;\n",
       "    }\n",
       "\n",
       "    .dataframe tbody tr th {\n",
       "        vertical-align: top;\n",
       "    }\n",
       "\n",
       "    .dataframe thead th {\n",
       "        text-align: right;\n",
       "    }\n",
       "</style>\n",
       "<table border=\"1\" class=\"dataframe\">\n",
       "  <thead>\n",
       "    <tr style=\"text-align: right;\">\n",
       "      <th></th>\n",
       "      <th>0</th>\n",
       "    </tr>\n",
       "  </thead>\n",
       "  <tbody>\n",
       "    <tr>\n",
       "      <th>0</th>\n",
       "      <td>Washington: (38.8950368, -77.0365427)</td>\n",
       "    </tr>\n",
       "    <tr>\n",
       "      <th>1</th>\n",
       "      <td>California: (36.7014631, -118.755997)</td>\n",
       "    </tr>\n",
       "    <tr>\n",
       "      <th>2</th>\n",
       "      <td>Oregon: (43.9792797, -120.737257)</td>\n",
       "    </tr>\n",
       "    <tr>\n",
       "      <th>3</th>\n",
       "      <td>Essonne: (48.53034015, 2.239291805668168)</td>\n",
       "    </tr>\n",
       "    <tr>\n",
       "      <th>4</th>\n",
       "      <td>Yveline: (48.8544497, 2.3357512)</td>\n",
       "    </tr>\n",
       "    <tr>\n",
       "      <th>5</th>\n",
       "      <td>England: (52.5310214, -1.2649062)</td>\n",
       "    </tr>\n",
       "    <tr>\n",
       "      <th>6</th>\n",
       "      <td>Hessen: (50.6080651, 9.0284647)</td>\n",
       "    </tr>\n",
       "    <tr>\n",
       "      <th>7</th>\n",
       "      <td>Hamburg: (53.550341, 10.000654)</td>\n",
       "    </tr>\n",
       "    <tr>\n",
       "      <th>8</th>\n",
       "      <td>Seine Saint Denis: (48.9098125, 2.452863478446...</td>\n",
       "    </tr>\n",
       "    <tr>\n",
       "      <th>9</th>\n",
       "      <td>Saarland: (49.3841872, 6.9537369)</td>\n",
       "    </tr>\n",
       "    <tr>\n",
       "      <th>10</th>\n",
       "      <td>Nordrhein-Westfalen: (51.4789205, 7.5543751)</td>\n",
       "    </tr>\n",
       "    <tr>\n",
       "      <th>11</th>\n",
       "      <td>Bayern: (48.9467562, 11.4038717)</td>\n",
       "    </tr>\n",
       "    <tr>\n",
       "      <th>12</th>\n",
       "      <td>Seine (Paris): (48.825188, 2.705505)</td>\n",
       "    </tr>\n",
       "    <tr>\n",
       "      <th>13</th>\n",
       "      <td>Pas de Calais: (50.5144061, 2.258007849773996)</td>\n",
       "    </tr>\n",
       "    <tr>\n",
       "      <th>14</th>\n",
       "      <td>Moselle: (49.0207259, 6.538035170357949)</td>\n",
       "    </tr>\n",
       "    <tr>\n",
       "      <th>15</th>\n",
       "      <td>Hauts de Seine: (48.840185899999994, 2.1986299...</td>\n",
       "    </tr>\n",
       "    <tr>\n",
       "      <th>16</th>\n",
       "      <td>Nord: (50.52896715, 3.0883523694464854)</td>\n",
       "    </tr>\n",
       "    <tr>\n",
       "      <th>17</th>\n",
       "      <td>Seine et Marne: (48.61902069999999, 3.04181575...</td>\n",
       "    </tr>\n",
       "    <tr>\n",
       "      <th>18</th>\n",
       "      <td>Loiret: (47.91387245, 2.3075036458463853)</td>\n",
       "    </tr>\n",
       "    <tr>\n",
       "      <th>19</th>\n",
       "      <td>Charente-Maritime: (45.73022675, -0.7212875872...</td>\n",
       "    </tr>\n",
       "    <tr>\n",
       "      <th>20</th>\n",
       "      <td>Loir et Cher: (47.65977515, 1.297183525390464)</td>\n",
       "    </tr>\n",
       "    <tr>\n",
       "      <th>21</th>\n",
       "      <td>Brandenburg: (52.8455492, 13.2461296)</td>\n",
       "    </tr>\n",
       "    <tr>\n",
       "      <th>22</th>\n",
       "      <td>Alabama: (33.2588817, -86.8295337)</td>\n",
       "    </tr>\n",
       "    <tr>\n",
       "      <th>23</th>\n",
       "      <td>Val d'Oise: (49.07507045, 2.209811443668384)</td>\n",
       "    </tr>\n",
       "    <tr>\n",
       "      <th>24</th>\n",
       "      <td>Val de Marne: (48.774489349999996, 2.454332144...</td>\n",
       "    </tr>\n",
       "    <tr>\n",
       "      <th>25</th>\n",
       "      <td>Minnesota: (45.9896587, -94.6113288)</td>\n",
       "    </tr>\n",
       "    <tr>\n",
       "      <th>26</th>\n",
       "      <td>Wyoming: (43.1700264, -107.568534)</td>\n",
       "    </tr>\n",
       "    <tr>\n",
       "      <th>27</th>\n",
       "      <td>Ohio: (40.2253569, -82.6881395)</td>\n",
       "    </tr>\n",
       "    <tr>\n",
       "      <th>28</th>\n",
       "      <td>Garonne (Haute): (43.4955388, 1.3588346)</td>\n",
       "    </tr>\n",
       "    <tr>\n",
       "      <th>29</th>\n",
       "      <td>Kentucky: (37.5726028, -85.1551411)</td>\n",
       "    </tr>\n",
       "    <tr>\n",
       "      <th>30</th>\n",
       "      <td>Texas: (31.2638905, -98.5456116)</td>\n",
       "    </tr>\n",
       "    <tr>\n",
       "      <th>31</th>\n",
       "      <td>Missouri: (38.7604815, -92.5617875)</td>\n",
       "    </tr>\n",
       "    <tr>\n",
       "      <th>32</th>\n",
       "      <td>Somme: (49.96894815, 2.373885538932255)</td>\n",
       "    </tr>\n",
       "    <tr>\n",
       "      <th>33</th>\n",
       "      <td>New York: (40.7127281, -74.0060152)</td>\n",
       "    </tr>\n",
       "    <tr>\n",
       "      <th>34</th>\n",
       "      <td>Florida: (27.7567667, -81.4639835)</td>\n",
       "    </tr>\n",
       "    <tr>\n",
       "      <th>35</th>\n",
       "      <td>Illinois: (40.0796606, -89.4337288)</td>\n",
       "    </tr>\n",
       "    <tr>\n",
       "      <th>36</th>\n",
       "      <td>South Carolina: (33.6874388, -80.4363743)</td>\n",
       "    </tr>\n",
       "    <tr>\n",
       "      <th>37</th>\n",
       "      <td>North Carolina: (35.6729639, -79.0392919)</td>\n",
       "    </tr>\n",
       "    <tr>\n",
       "      <th>38</th>\n",
       "      <td>Georgia: (32.3293809, -83.1137366)</td>\n",
       "    </tr>\n",
       "    <tr>\n",
       "      <th>39</th>\n",
       "      <td>Virginia: (37.1232245, -78.4927721)</td>\n",
       "    </tr>\n",
       "    <tr>\n",
       "      <th>40</th>\n",
       "      <td>Mississippi: (32.9715285, -89.7348497)</td>\n",
       "    </tr>\n",
       "    <tr>\n",
       "      <th>41</th>\n",
       "      <td>Montana: (47.3752671, -109.638757)</td>\n",
       "    </tr>\n",
       "    <tr>\n",
       "      <th>42</th>\n",
       "      <td>Arizona: (34.395342, -111.763275)</td>\n",
       "    </tr>\n",
       "    <tr>\n",
       "      <th>43</th>\n",
       "      <td>Massachusetts: (42.3788774, -72.032366)</td>\n",
       "    </tr>\n",
       "    <tr>\n",
       "      <th>44</th>\n",
       "      <td>Utah: (39.4225192, -111.714358)</td>\n",
       "    </tr>\n",
       "  </tbody>\n",
       "</table>\n",
       "</div>"
      ],
      "text/plain": [
       "                                                    0\n",
       "0               Washington: (38.8950368, -77.0365427)\n",
       "1               California: (36.7014631, -118.755997)\n",
       "2                   Oregon: (43.9792797, -120.737257)\n",
       "3           Essonne: (48.53034015, 2.239291805668168)\n",
       "4                    Yveline: (48.8544497, 2.3357512)\n",
       "5                   England: (52.5310214, -1.2649062)\n",
       "6                     Hessen: (50.6080651, 9.0284647)\n",
       "7                     Hamburg: (53.550341, 10.000654)\n",
       "8   Seine Saint Denis: (48.9098125, 2.452863478446...\n",
       "9                   Saarland: (49.3841872, 6.9537369)\n",
       "10       Nordrhein-Westfalen: (51.4789205, 7.5543751)\n",
       "11                   Bayern: (48.9467562, 11.4038717)\n",
       "12               Seine (Paris): (48.825188, 2.705505)\n",
       "13     Pas de Calais: (50.5144061, 2.258007849773996)\n",
       "14           Moselle: (49.0207259, 6.538035170357949)\n",
       "15  Hauts de Seine: (48.840185899999994, 2.1986299...\n",
       "16            Nord: (50.52896715, 3.0883523694464854)\n",
       "17  Seine et Marne: (48.61902069999999, 3.04181575...\n",
       "18          Loiret: (47.91387245, 2.3075036458463853)\n",
       "19  Charente-Maritime: (45.73022675, -0.7212875872...\n",
       "20     Loir et Cher: (47.65977515, 1.297183525390464)\n",
       "21              Brandenburg: (52.8455492, 13.2461296)\n",
       "22                 Alabama: (33.2588817, -86.8295337)\n",
       "23       Val d'Oise: (49.07507045, 2.209811443668384)\n",
       "24  Val de Marne: (48.774489349999996, 2.454332144...\n",
       "25               Minnesota: (45.9896587, -94.6113288)\n",
       "26                 Wyoming: (43.1700264, -107.568534)\n",
       "27                    Ohio: (40.2253569, -82.6881395)\n",
       "28           Garonne (Haute): (43.4955388, 1.3588346)\n",
       "29                Kentucky: (37.5726028, -85.1551411)\n",
       "30                   Texas: (31.2638905, -98.5456116)\n",
       "31                Missouri: (38.7604815, -92.5617875)\n",
       "32            Somme: (49.96894815, 2.373885538932255)\n",
       "33                New York: (40.7127281, -74.0060152)\n",
       "34                 Florida: (27.7567667, -81.4639835)\n",
       "35                Illinois: (40.0796606, -89.4337288)\n",
       "36          South Carolina: (33.6874388, -80.4363743)\n",
       "37          North Carolina: (35.6729639, -79.0392919)\n",
       "38                 Georgia: (32.3293809, -83.1137366)\n",
       "39                Virginia: (37.1232245, -78.4927721)\n",
       "40             Mississippi: (32.9715285, -89.7348497)\n",
       "41                 Montana: (47.3752671, -109.638757)\n",
       "42                  Arizona: (34.395342, -111.763275)\n",
       "43            Massachusetts: (42.3788774, -72.032366)\n",
       "44                    Utah: (39.4225192, -111.714358)"
      ]
     },
     "execution_count": 250,
     "metadata": {},
     "output_type": "execute_result"
    }
   ],
   "source": [
    "df=pd.DataFrame(data)\n",
    "df"
   ]
  },
  {
   "cell_type": "code",
   "execution_count": 254,
   "metadata": {},
   "outputs": [],
   "source": [
    "df=df[0].str.split(\":\",expand=True)"
   ]
  },
  {
   "cell_type": "code",
   "execution_count": 268,
   "metadata": {},
   "outputs": [],
   "source": [
    "ll=[]\n",
    "for i in dataframe['State']:\n",
    "    for j in df.values:\n",
    "        if i==j[0]:\n",
    "            ll.append(j[1])"
   ]
  },
  {
   "cell_type": "code",
   "execution_count": 276,
   "metadata": {},
   "outputs": [],
   "source": [
    "latitude=[]\n",
    "longitude=[]\n",
    "for i in ll:\n",
    "    a=i.strip()\n",
    "    b=a.split()\n",
    "    latitude.append(b[0])\n",
    "    longitude.append(b[1])"
   ]
  },
  {
   "cell_type": "code",
   "execution_count": 280,
   "metadata": {},
   "outputs": [
    {
     "name": "stderr",
     "output_type": "stream",
     "text": [
      "<ipython-input-280-9b1e2e308cd3>:1: SettingWithCopyWarning: \n",
      "A value is trying to be set on a copy of a slice from a DataFrame.\n",
      "Try using .loc[row_indexer,col_indexer] = value instead\n",
      "\n",
      "See the caveats in the documentation: https://pandas.pydata.org/pandas-docs/stable/user_guide/indexing.html#returning-a-view-versus-a-copy\n",
      "  dataframe[\"Latitude\"]=latitude\n",
      "<ipython-input-280-9b1e2e308cd3>:2: SettingWithCopyWarning: \n",
      "A value is trying to be set on a copy of a slice from a DataFrame.\n",
      "Try using .loc[row_indexer,col_indexer] = value instead\n",
      "\n",
      "See the caveats in the documentation: https://pandas.pydata.org/pandas-docs/stable/user_guide/indexing.html#returning-a-view-versus-a-copy\n",
      "  dataframe[\"Longitude\"]=longitude\n"
     ]
    }
   ],
   "source": [
    "dataframe[\"Latitude\"]=latitude\n",
    "dataframe[\"Longitude\"]=longitude"
   ]
  },
  {
   "cell_type": "code",
   "execution_count": 287,
   "metadata": {},
   "outputs": [],
   "source": [
    "ff=dataframe['Latitude'].str.split(\"(\",expand=True)[1]"
   ]
  },
  {
   "cell_type": "code",
   "execution_count": 293,
   "metadata": {},
   "outputs": [
    {
     "name": "stderr",
     "output_type": "stream",
     "text": [
      "<ipython-input-293-1bed2f7c4093>:1: SettingWithCopyWarning: \n",
      "A value is trying to be set on a copy of a slice from a DataFrame.\n",
      "Try using .loc[row_indexer,col_indexer] = value instead\n",
      "\n",
      "See the caveats in the documentation: https://pandas.pydata.org/pandas-docs/stable/user_guide/indexing.html#returning-a-view-versus-a-copy\n",
      "  dataframe['Latitude']=ff.str.extract(\"(\\d+.\\d+)\")[0]\n"
     ]
    }
   ],
   "source": [
    "dataframe['Latitude']=ff.str.extract(\"(\\d+.\\d+)\")[0]"
   ]
  },
  {
   "cell_type": "code",
   "execution_count": 300,
   "metadata": {},
   "outputs": [
    {
     "name": "stderr",
     "output_type": "stream",
     "text": [
      "<ipython-input-300-16df239c2086>:2: SettingWithCopyWarning: \n",
      "A value is trying to be set on a copy of a slice from a DataFrame.\n",
      "Try using .loc[row_indexer,col_indexer] = value instead\n",
      "\n",
      "See the caveats in the documentation: https://pandas.pydata.org/pandas-docs/stable/user_guide/indexing.html#returning-a-view-versus-a-copy\n",
      "  dataframe['Longitude']=lo\n"
     ]
    }
   ],
   "source": [
    "lo=dataframe['Longitude'].str.extract(\"(\\d+.\\d+)\")[0]\n",
    "dataframe['Longitude']=lo"
   ]
  },
  {
   "cell_type": "code",
   "execution_count": 306,
   "metadata": {},
   "outputs": [
    {
     "data": {
      "text/plain": [
       "Country         State              \n",
       "France          Seine (Paris)           1092\n",
       "                Seine Saint Denis        796\n",
       "                Nord                     787\n",
       "                Hauts de Seine           509\n",
       "                Essonne                  465\n",
       "                Yveline                  442\n",
       "                Seine et Marne           183\n",
       "                Moselle                  181\n",
       "                Loiret                   178\n",
       "                Val d'Oise               130\n",
       "                Garonne (Haute)          100\n",
       "                Val de Marne              75\n",
       "                Charente-Maritime         70\n",
       "                Somme                     61\n",
       "                Loir et Cher              57\n",
       "                Pas de Calais             42\n",
       "Germany         Saarland                1287\n",
       "                Nordrhein-Westfalen     1171\n",
       "                Hessen                  1112\n",
       "                Hamburg                  869\n",
       "                Bayern                   668\n",
       "                Brandenburg               94\n",
       "United Kingdom  England                 6421\n",
       "United States   California             10332\n",
       "                Washington              5204\n",
       "                Oregon                  2446\n",
       "                Illinois                  14\n",
       "                Texas                     14\n",
       "                Ohio                      13\n",
       "                New York                  10\n",
       "                Florida                    7\n",
       "                South Carolina             5\n",
       "                Utah                       5\n",
       "                Kentucky                   4\n",
       "                Minnesota                  3\n",
       "                Wyoming                    3\n",
       "                Alabama                    2\n",
       "                Arizona                    2\n",
       "                Georgia                    2\n",
       "                Mississippi                2\n",
       "                Montana                    2\n",
       "                North Carolina             2\n",
       "                Virginia                   2\n",
       "                Massachusetts              1\n",
       "                Missouri                   1\n",
       "Name: State, dtype: int64"
      ]
     },
     "execution_count": 306,
     "metadata": {},
     "output_type": "execute_result"
    }
   ],
   "source": [
    "Country=dataframe.groupby(\"Country\")['State'].value_counts()\n",
    "Country"
   ]
  },
  {
   "cell_type": "code",
   "execution_count": null,
   "metadata": {},
   "outputs": [],
   "source": []
  },
  {
   "cell_type": "markdown",
   "metadata": {},
   "source": [
    "Checking the Revenue of purchases depends on Cities"
   ]
  },
  {
   "cell_type": "code",
   "execution_count": null,
   "metadata": {},
   "outputs": [],
   "source": []
  },
  {
   "cell_type": "markdown",
   "metadata": {},
   "source": [
    "Checking the product mostly buy by every city"
   ]
  },
  {
   "cell_type": "code",
   "execution_count": 244,
   "metadata": {},
   "outputs": [
    {
     "data": {
      "text/plain": [
       "39"
      ]
     },
     "execution_count": 244,
     "metadata": {},
     "output_type": "execute_result"
    }
   ],
   "source": []
  },
  {
   "cell_type": "markdown",
   "metadata": {},
   "source": [
    "Checking Revenue Country wise Cities"
   ]
  },
  {
   "cell_type": "code",
   "execution_count": null,
   "metadata": {},
   "outputs": [],
   "source": []
  }
 ],
 "metadata": {
  "kernelspec": {
   "display_name": "Python 3",
   "language": "python",
   "name": "python3"
  },
  "language_info": {
   "codemirror_mode": {
    "name": "ipython",
    "version": 3
   },
   "file_extension": ".py",
   "mimetype": "text/x-python",
   "name": "python",
   "nbconvert_exporter": "python",
   "pygments_lexer": "ipython3",
   "version": "3.8.5"
  }
 },
 "nbformat": 4,
 "nbformat_minor": 4
}
